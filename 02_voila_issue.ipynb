{
 "cells": [
  {
   "cell_type": "markdown",
   "metadata": {},
   "source": [
    "\n",
    "# **The jupyTango environment**\n",
    "\n",
    "jupyTango defines two jupyter magics (more to come): `%tango_monitor` and `%plot_tango_attribute`."
   ]
  },
  {
   "cell_type": "markdown",
   "metadata": {},
   "source": [
    "The`%plot_tango_attribute` (or `%pta`) generates a static/synchronous plot of any tango attribute (snapshot)."
   ]
  },
  {
   "cell_type": "code",
   "execution_count": null,
   "metadata": {},
   "outputs": [],
   "source": [
    "pta -w 300 -h 300 sys/tg_test/1/long_image_ro"
   ]
  },
  {
   "cell_type": "code",
   "execution_count": null,
   "metadata": {},
   "outputs": [],
   "source": [
    "pta -w 900 -h 200 sys/tg_test/1/long_spectrum_ro"
   ]
  },
  {
   "cell_type": "markdown",
   "metadata": {},
   "source": [
    "The `%tango_monitor` - or its alias `%tgm` - provides us with a live/asynchronous minitor for any tango attribute."
   ]
  },
  {
   "cell_type": "code",
   "execution_count": null,
   "metadata": {},
   "outputs": [],
   "source": [
    "tgm sys/tg_test/1/long_image_ro"
   ]
  },
  {
   "cell_type": "code",
   "execution_count": null,
   "metadata": {},
   "outputs": [],
   "source": [
    "tgm -w 900 sys/tg_test/1/long_spectrum_ro"
   ]
  },
  {
   "cell_type": "code",
   "execution_count": null,
   "metadata": {},
   "outputs": [],
   "source": [
    "from jupytango.tango.monitor import open_tango_monitor"
   ]
  },
  {
   "cell_type": "code",
   "execution_count": 11,
   "metadata": {},
   "outputs": [],
   "source": [
    "from tornado.ioloop import IOLoop\n",
    "class AsyncCall(object):\n",
    "    \"\"\" A very simple async. call \"\"\"\n",
    "    def __init__(self, f, d=0.):\n",
    "        self._hdl = IOLoop.current().call_later(d, f)"
   ]
  },
  {
   "cell_type": "code",
   "execution_count": 12,
   "metadata": {},
   "outputs": [
    {
     "data": {
      "application/vnd.jupyter.widget-view+json": {
       "model_id": "",
       "version_major": 2,
       "version_minor": 0
      },
      "text/plain": [
       "VBox(children=(HBox(children=(FloatSlider(value=1.0, continuous_update=False, description='Update period (s)',…"
      ]
     },
     "metadata": {},
     "output_type": "display_data"
    }
   ],
   "source": [
    "tm = open_tango_monitor(attribute=\"sys/tg_test/1/long_spectrum_ro\")"
   ]
  },
  {
   "cell_type": "code",
   "execution_count": 6,
   "metadata": {},
   "outputs": [],
   "source": [
    "import time\n",
    "import ipywidgets as ipw\n",
    "from IPython.display import display, clear_output\n",
    "from jupytango.tools import *\n",
    "from jupytango.tango.monitor import open_tango_monitor\n",
    "\n",
    "class OpenCloseMonitor(NotebookCellContent):\n",
    "    \n",
    "    def __init__(self):\n",
    "        NotebookCellContent.__init__(self)\n",
    "        self._m1 = None\n",
    "        self._o = ipw.Output()\n",
    "        self._b = ipw.Button(description=\"Open Monitor\")\n",
    "        self._b.on_click(self.open_plots_clicked)\n",
    "        self._c = ipw.Button(description=\"Close Monitor\")\n",
    "        self._c.on_click(self.close_plots_clicked)\n",
    "        buttons = ipw.HBox(children=[self._b, self._c])\n",
    "        self._l = ipw.VBox(children=[buttons, self._o])\n",
    "        display(self._l)\n",
    "            \n",
    "    def open_plots_clicked(self, b):\n",
    "        try:\n",
    "            self._m1 = open_tango_monitor(attribute=\"sys/tg_test/1/long_spectrum_ro\")\n",
    "        except Exception as e:\n",
    "            self.error(e)\n",
    "\n",
    "    def close_plots_clicked(self, b):\n",
    "        try:\n",
    "            if self._m1:    \n",
    "                self._m1.close()\n",
    "                self._m1 = None\n",
    "            self._o.clear_output()\n",
    "        except Exception as e:\n",
    "            self.error(e)"
   ]
  },
  {
   "cell_type": "code",
   "execution_count": 14,
   "metadata": {},
   "outputs": [
    {
     "data": {
      "application/vnd.jupyter.widget-view+json": {
       "model_id": "bc964e92a74745aabd9fd35d1ce46ac8",
       "version_major": 2,
       "version_minor": 0
      },
      "text/plain": [
       "VBox(children=(HBox(children=(Button(description='Open Monitor', style=ButtonStyle()), Button(description='Clo…"
      ]
     },
     "metadata": {},
     "output_type": "display_data"
    }
   ],
   "source": [
    "opm = OpenCloseMonitor()"
   ]
  },
  {
   "cell_type": "markdown",
   "metadata": {},
   "source": [
    "Thanks to itango, these magics provide device and attribute completion using the 'TAB' key. For instance, type `tgm + <TAB>` ina notebook cell to select the Tango device, then type <TAB> again to select the attribute you want to monitor."
   ]
  },
  {
   "cell_type": "markdown",
   "metadata": {},
   "source": [
    "Type `tango_monitor?` or `plot_tango_attribute?` for inline documentation (i.e. optional parameter details)."
   ]
  },
  {
   "cell_type": "code",
   "execution_count": null,
   "metadata": {},
   "outputs": [],
   "source": [
    "tango_monitor?"
   ]
  },
  {
   "cell_type": "markdown",
   "metadata": {},
   "source": [
    "You can obviously use pytango as you would do in a python console or script (see examples below). Note that some itango also provide name completion for `tango.Device`, `tango.DeviceProxy`,  `tango.Attribute` and`tango.AttributeProxy`. \n",
    "\n",
    "For instance, type `tt = tango.DeviceProxy(\" + <TAB>` to select a device along the list of exported ones."
   ]
  },
  {
   "cell_type": "code",
   "execution_count": null,
   "metadata": {},
   "outputs": [],
   "source": [
    "import tango\n",
    "tt = tango.DeviceProxy(\"sys/tg_test/1\")"
   ]
  },
  {
   "cell_type": "code",
   "execution_count": null,
   "metadata": {},
   "outputs": [],
   "source": [
    "tt.state()"
   ]
  },
  {
   "cell_type": "code",
   "execution_count": null,
   "metadata": {},
   "outputs": [],
   "source": [
    "tt.ampli"
   ]
  }
 ],
 "metadata": {
  "kernelspec": {
   "display_name": "jupyTango",
   "language": "python",
   "name": "jupytango"
  },
  "language_info": {
   "codemirror_mode": {
    "name": "ipython",
    "version": 3
   },
   "file_extension": ".py",
   "mimetype": "text/x-python",
   "name": "python",
   "nbconvert_exporter": "python",
   "pygments_lexer": "ipython3",
   "version": "3.7.7"
  }
 },
 "nbformat": 4,
 "nbformat_minor": 4
}
